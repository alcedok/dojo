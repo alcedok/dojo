{
 "cells": [
  {
   "cell_type": "code",
   "execution_count": 1,
   "metadata": {
    "collapsed": true
   },
   "outputs": [],
   "source": [
    "import config\n",
    "import glob\n",
    "import pandas as pd"
   ]
  },
  {
   "cell_type": "code",
   "execution_count": 2,
   "metadata": {
    "collapsed": false
   },
   "outputs": [
    {
     "data": {
      "text/html": [
       "<style>.container { width:100% !important; }</style>"
      ],
      "text/plain": [
       "<IPython.core.display.HTML object>"
      ]
     },
     "metadata": {},
     "output_type": "display_data"
    }
   ],
   "source": [
    "# modules used for easier display of data\n",
    "from IPython.display import display\n",
    "from IPython.core.display import HTML\n",
    "display(HTML(\"<style>.container { width:100% !important; }</style>\"))"
   ]
  },
  {
   "cell_type": "markdown",
   "metadata": {},
   "source": [
    "### Notes:\n",
    "\n",
    "- Previous Kata we learned that sensor readings vary significantly per participant, and that there may be other features we can extract.\n",
    "- Today we will focus on using data from one participant and use some guidance from the following publications:\n",
    "    - http://web2.utc.edu/~swf134/research/BSN_Event_Classification_Cameral_Ready_2010.pdf\n",
    "    - http://cs.gmu.edu/~jessica/SAX_DAMI_preprint.pdf\n",
    "- Ideas:\n",
    "    - We could use TSFRESH package (Time Series Feature extraction based on scalable hypothesis tests)\n",
    "    - Manually select features:\n",
    "        - Windowed mean/median/std/max/min\n",
    "        - Sensor rate-of-change (explored in kata_04212017), in this case this is the 'snap' measurement\n",
    "    - Can we do an adaptive window function based on how many features are in a given time range?\n",
    "        "
   ]
  },
  {
   "cell_type": "markdown",
   "metadata": {},
   "source": [
    "### Accomplished:\n",
    "- Successfully increased accuracy using windowed statistics from 78% to 85%\n",
    "- We noted that the 'snap' measurement does not have a high ranking as an important feature"
   ]
  },
  {
   "cell_type": "markdown",
   "metadata": {},
   "source": [
    "### Load Data"
   ]
  },
  {
   "cell_type": "code",
   "execution_count": 3,
   "metadata": {
    "collapsed": false
   },
   "outputs": [
    {
     "name": "stdout",
     "output_type": "stream",
     "text": [
      "participant 0 data:\t 166741\n",
      "participant 1 data:\t 140901\n",
      "participant 2 data:\t 126801\n",
      "participant 3 data:\t 122201\n",
      "participant 4 data:\t 67651\n",
      "participant 5 data:\t 138001\n",
      "participant 6 data:\t 160001\n",
      "participant 7 data:\t 114702\n",
      "participant 8 data:\t 103501\n",
      "participant 9 data:\t 102341\n",
      "participant 10 data:\t 162501\n",
      "participant 11 data:\t 163001\n",
      "participant 12 data:\t 116101\n",
      "participant 13 data:\t 104451\n",
      "participant 14 data:\t 138001\n",
      "\n",
      "Total combined data:  (1926896, 7)\n"
     ]
    }
   ],
   "source": [
    "path_to_files = glob.glob(config.data_dir+'*.csv')\n",
    "dfs = []\n",
    "for i,f in enumerate(path_to_files):\n",
    "    df_i = pd.read_csv(f,names=config.cols)\n",
    "    \n",
    "    # create column containing participant id\n",
    "    df_i['participant_id'] = i\n",
    "    dfs.append(df_i)\n",
    "    \n",
    "    print('participant {} data:\\t'.format(i),df_i.shape[0])\n",
    "df = pd.concat(dfs).reset_index()\n",
    "print('\\nTotal combined data: ',df.shape)"
   ]
  },
  {
   "cell_type": "code",
   "execution_count": 6,
   "metadata": {
    "collapsed": false
   },
   "outputs": [
    {
     "name": "stdout",
     "output_type": "stream",
     "text": [
      "(166741, 7)\n"
     ]
    }
   ],
   "source": [
    "# We will select the subset for the following participant\n",
    "df_0 = df[df['participant_id']==0].copy()\n",
    "print(df_0.shape)"
   ]
  },
  {
   "cell_type": "markdown",
   "metadata": {},
   "source": [
    "### Feature Engineering\n",
    "\n",
    "- Manually create a windowing function to apply stats"
   ]
  },
  {
   "cell_type": "code",
   "execution_count": 50,
   "metadata": {
    "collapsed": false
   },
   "outputs": [
    {
     "name": "stdout",
     "output_type": "stream",
     "text": [
      "window size:  156\n"
     ]
    },
    {
     "data": {
      "text/html": [
       "<div>\n",
       "<table border=\"1\" class=\"dataframe\">\n",
       "  <thead>\n",
       "    <tr style=\"text-align: right;\">\n",
       "      <th></th>\n",
       "      <th>index</th>\n",
       "      <th>sequential_number</th>\n",
       "      <th>x_acceleration</th>\n",
       "      <th>y_acceleration</th>\n",
       "      <th>z_acceleration</th>\n",
       "      <th>label</th>\n",
       "      <th>participant_id</th>\n",
       "      <th>x_win_mean</th>\n",
       "      <th>y_win_mean</th>\n",
       "      <th>z_win_mean</th>\n",
       "      <th>...</th>\n",
       "      <th>z_win_median</th>\n",
       "      <th>x_win_max</th>\n",
       "      <th>y_win_max</th>\n",
       "      <th>z_win_max</th>\n",
       "      <th>x_win_min</th>\n",
       "      <th>y_win_min</th>\n",
       "      <th>z_win_min</th>\n",
       "      <th>x2</th>\n",
       "      <th>y2</th>\n",
       "      <th>z2</th>\n",
       "    </tr>\n",
       "  </thead>\n",
       "  <tbody>\n",
       "    <tr>\n",
       "      <th>1</th>\n",
       "      <td>1</td>\n",
       "      <td>1.0</td>\n",
       "      <td>2249</td>\n",
       "      <td>2677</td>\n",
       "      <td>2046</td>\n",
       "      <td>1</td>\n",
       "      <td>0</td>\n",
       "      <td>2268.000000</td>\n",
       "      <td>2812.5</td>\n",
       "      <td>2117.500000</td>\n",
       "      <td>...</td>\n",
       "      <td>2117.5</td>\n",
       "      <td>2287.0</td>\n",
       "      <td>2948.0</td>\n",
       "      <td>2189.0</td>\n",
       "      <td>2249.0</td>\n",
       "      <td>2677.0</td>\n",
       "      <td>2046.0</td>\n",
       "      <td>-38.0</td>\n",
       "      <td>-271.0</td>\n",
       "      <td>-143.0</td>\n",
       "    </tr>\n",
       "    <tr>\n",
       "      <th>2</th>\n",
       "      <td>2</td>\n",
       "      <td>2.0</td>\n",
       "      <td>2270</td>\n",
       "      <td>2568</td>\n",
       "      <td>2005</td>\n",
       "      <td>1</td>\n",
       "      <td>0</td>\n",
       "      <td>2268.666667</td>\n",
       "      <td>2731.0</td>\n",
       "      <td>2080.000000</td>\n",
       "      <td>...</td>\n",
       "      <td>2046.0</td>\n",
       "      <td>2287.0</td>\n",
       "      <td>2948.0</td>\n",
       "      <td>2189.0</td>\n",
       "      <td>2249.0</td>\n",
       "      <td>2568.0</td>\n",
       "      <td>2005.0</td>\n",
       "      <td>21.0</td>\n",
       "      <td>-109.0</td>\n",
       "      <td>-41.0</td>\n",
       "    </tr>\n",
       "    <tr>\n",
       "      <th>3</th>\n",
       "      <td>3</td>\n",
       "      <td>3.0</td>\n",
       "      <td>2222</td>\n",
       "      <td>2565</td>\n",
       "      <td>2003</td>\n",
       "      <td>1</td>\n",
       "      <td>0</td>\n",
       "      <td>2257.000000</td>\n",
       "      <td>2689.5</td>\n",
       "      <td>2060.750000</td>\n",
       "      <td>...</td>\n",
       "      <td>2025.5</td>\n",
       "      <td>2287.0</td>\n",
       "      <td>2948.0</td>\n",
       "      <td>2189.0</td>\n",
       "      <td>2222.0</td>\n",
       "      <td>2565.0</td>\n",
       "      <td>2003.0</td>\n",
       "      <td>-48.0</td>\n",
       "      <td>-3.0</td>\n",
       "      <td>-2.0</td>\n",
       "    </tr>\n",
       "    <tr>\n",
       "      <th>4</th>\n",
       "      <td>4</td>\n",
       "      <td>4.0</td>\n",
       "      <td>2235</td>\n",
       "      <td>2571</td>\n",
       "      <td>2074</td>\n",
       "      <td>1</td>\n",
       "      <td>0</td>\n",
       "      <td>2252.600000</td>\n",
       "      <td>2665.8</td>\n",
       "      <td>2063.400000</td>\n",
       "      <td>...</td>\n",
       "      <td>2046.0</td>\n",
       "      <td>2287.0</td>\n",
       "      <td>2948.0</td>\n",
       "      <td>2189.0</td>\n",
       "      <td>2222.0</td>\n",
       "      <td>2565.0</td>\n",
       "      <td>2003.0</td>\n",
       "      <td>13.0</td>\n",
       "      <td>6.0</td>\n",
       "      <td>71.0</td>\n",
       "    </tr>\n",
       "    <tr>\n",
       "      <th>5</th>\n",
       "      <td>5</td>\n",
       "      <td>5.0</td>\n",
       "      <td>2205</td>\n",
       "      <td>2559</td>\n",
       "      <td>2075</td>\n",
       "      <td>1</td>\n",
       "      <td>0</td>\n",
       "      <td>2244.666667</td>\n",
       "      <td>2648.0</td>\n",
       "      <td>2065.333333</td>\n",
       "      <td>...</td>\n",
       "      <td>2060.0</td>\n",
       "      <td>2287.0</td>\n",
       "      <td>2948.0</td>\n",
       "      <td>2189.0</td>\n",
       "      <td>2205.0</td>\n",
       "      <td>2559.0</td>\n",
       "      <td>2003.0</td>\n",
       "      <td>-30.0</td>\n",
       "      <td>-12.0</td>\n",
       "      <td>1.0</td>\n",
       "    </tr>\n",
       "  </tbody>\n",
       "</table>\n",
       "<p>5 rows × 22 columns</p>\n",
       "</div>"
      ],
      "text/plain": [
       "   index  sequential_number  x_acceleration  y_acceleration  z_acceleration  \\\n",
       "1      1                1.0            2249            2677            2046   \n",
       "2      2                2.0            2270            2568            2005   \n",
       "3      3                3.0            2222            2565            2003   \n",
       "4      4                4.0            2235            2571            2074   \n",
       "5      5                5.0            2205            2559            2075   \n",
       "\n",
       "   label  participant_id   x_win_mean  y_win_mean   z_win_mean  ...    \\\n",
       "1      1               0  2268.000000      2812.5  2117.500000  ...     \n",
       "2      1               0  2268.666667      2731.0  2080.000000  ...     \n",
       "3      1               0  2257.000000      2689.5  2060.750000  ...     \n",
       "4      1               0  2252.600000      2665.8  2063.400000  ...     \n",
       "5      1               0  2244.666667      2648.0  2065.333333  ...     \n",
       "\n",
       "   z_win_median  x_win_max  y_win_max  z_win_max  x_win_min  y_win_min  \\\n",
       "1        2117.5     2287.0     2948.0     2189.0     2249.0     2677.0   \n",
       "2        2046.0     2287.0     2948.0     2189.0     2249.0     2568.0   \n",
       "3        2025.5     2287.0     2948.0     2189.0     2222.0     2565.0   \n",
       "4        2046.0     2287.0     2948.0     2189.0     2222.0     2565.0   \n",
       "5        2060.0     2287.0     2948.0     2189.0     2205.0     2559.0   \n",
       "\n",
       "   z_win_min    x2     y2     z2  \n",
       "1     2046.0 -38.0 -271.0 -143.0  \n",
       "2     2005.0  21.0 -109.0  -41.0  \n",
       "3     2003.0 -48.0   -3.0   -2.0  \n",
       "4     2003.0  13.0    6.0   71.0  \n",
       "5     2003.0 -30.0  -12.0    1.0  \n",
       "\n",
       "[5 rows x 22 columns]"
      ]
     },
     "execution_count": 50,
     "metadata": {},
     "output_type": "execute_result"
    }
   ],
   "source": [
    "WINDOW_SIZE = int(config.sampling_freq*3.0)\n",
    "print(\"window size: \",WINDOW_SIZE)\n",
    "df_0['x_win_mean'] = df_0[['x_acceleration']].rolling(WINDOW_SIZE,min_periods=1).mean()\n",
    "df_0['y_win_mean'] = df_0[['y_acceleration']].rolling(WINDOW_SIZE,min_periods=1).mean()\n",
    "df_0['z_win_mean'] = df_0[['z_acceleration']].rolling(WINDOW_SIZE,min_periods=1).mean()\n",
    "\n",
    "df_0['x_win_median'] = df_0[['x_acceleration']].rolling(WINDOW_SIZE,min_periods=1).median()\n",
    "df_0['y_win_median'] = df_0[['y_acceleration']].rolling(WINDOW_SIZE,min_periods=1).median()\n",
    "df_0['z_win_median'] = df_0[['z_acceleration']].rolling(WINDOW_SIZE,min_periods=1).median()\n",
    "\n",
    "df_0['x_win_max'] = df_0[['x_acceleration']].rolling(WINDOW_SIZE,min_periods=1).max()\n",
    "df_0['y_win_max'] = df_0[['y_acceleration']].rolling(WINDOW_SIZE,min_periods=1).max()\n",
    "df_0['z_win_max'] = df_0[['z_acceleration']].rolling(WINDOW_SIZE,min_periods=1).max()\n",
    "\n",
    "\n",
    "df_0['x_win_min'] = df_0[['x_acceleration']].rolling(WINDOW_SIZE,min_periods=1).min()\n",
    "df_0['y_win_min'] = df_0[['y_acceleration']].rolling(WINDOW_SIZE,min_periods=1).min()\n",
    "df_0['z_win_min'] = df_0[['z_acceleration']].rolling(WINDOW_SIZE,min_periods=1).min()\n",
    "\n",
    "df_0['x2'] = df_0['x_acceleration'].diff()\n",
    "df_0['y2'] = df_0['y_acceleration'].diff()\n",
    "df_0['z2'] = df_0['z_acceleration'].diff()\n",
    "\n",
    "df_0 = df_0.dropna()\n",
    "df_0.head()"
   ]
  },
  {
   "cell_type": "code",
   "execution_count": 51,
   "metadata": {
    "collapsed": false
   },
   "outputs": [],
   "source": [
    "X = df_0[['x_acceleration','y_acceleration','z_acceleration',\n",
    "        'x_win_mean','y_win_mean','z_win_mean',\n",
    "        'x_win_median','y_win_median','z_win_median',\n",
    "        'x_win_max','y_win_max','z_win_max',\n",
    "        'x_win_min','y_win_min','z_win_min',\n",
    "         'x2','y2','z2']]\n",
    "y = df_0['label']"
   ]
  },
  {
   "cell_type": "code",
   "execution_count": 52,
   "metadata": {
    "collapsed": false
   },
   "outputs": [],
   "source": [
    "X_raw = df_0[['x_acceleration','y_acceleration','z_acceleration']]\n",
    "y_raw = df_0['label']"
   ]
  },
  {
   "cell_type": "markdown",
   "metadata": {},
   "source": [
    "### ML with cross-validation"
   ]
  },
  {
   "cell_type": "code",
   "execution_count": 25,
   "metadata": {
    "collapsed": true
   },
   "outputs": [],
   "source": [
    "from sklearn.ensemble import  RandomForestClassifier\n",
    "from sklearn.model_selection import cross_val_score"
   ]
  },
  {
   "cell_type": "code",
   "execution_count": 26,
   "metadata": {
    "collapsed": true
   },
   "outputs": [],
   "source": [
    "clf_rf = RandomForestClassifier(n_jobs=-1,n_estimators=10,random_state=2)"
   ]
  },
  {
   "cell_type": "markdown",
   "metadata": {},
   "source": [
    "#### Using raw features"
   ]
  },
  {
   "cell_type": "code",
   "execution_count": 54,
   "metadata": {
    "collapsed": false
   },
   "outputs": [
    {
     "name": "stdout",
     "output_type": "stream",
     "text": [
      "[ 0.68364869  0.8311443   0.84298908  0.80874415  0.72489279]\n",
      "Accuracy: 0.78 (+/- 0.13)\n",
      "CPU times: user 164 ms, sys: 52 ms, total: 216 ms\n",
      "Wall time: 4.89 s\n"
     ]
    }
   ],
   "source": [
    "%%time\n",
    "rf_scores = cross_val_score(clf_rf, X_raw, y_raw, cv=5, n_jobs =-1)\n",
    "print(rf_scores)\n",
    "print(\"Accuracy: %0.2f (+/- %0.2f)\" % (rf_scores.mean(), rf_scores.std() * 2))"
   ]
  },
  {
   "cell_type": "markdown",
   "metadata": {},
   "source": [
    "#### Using preprocessed features"
   ]
  },
  {
   "cell_type": "code",
   "execution_count": 53,
   "metadata": {
    "collapsed": false
   },
   "outputs": [
    {
     "name": "stdout",
     "output_type": "stream",
     "text": [
      "[ 0.74290084  0.92989085  0.91465755  0.88017272  0.76837497]\n",
      "Accuracy: 0.85 (+/- 0.15)\n",
      "\n",
      "CPU times: user 348 ms, sys: 68 ms, total: 416 ms\n",
      "Wall time: 7.65 s\n"
     ]
    }
   ],
   "source": [
    "%%time\n",
    "rf_scores = cross_val_score(clf_rf, X, y, cv=5, n_jobs =-1)\n",
    "print(rf_scores)\n",
    "print(\"Accuracy: %0.2f (+/- %0.2f)\\n\" % (rf_scores.mean(), rf_scores.std() * 2))"
   ]
  },
  {
   "cell_type": "markdown",
   "metadata": {},
   "source": [
    "### Feature Ranking"
   ]
  },
  {
   "cell_type": "code",
   "execution_count": 55,
   "metadata": {
    "collapsed": false
   },
   "outputs": [
    {
     "name": "stdout",
     "output_type": "stream",
     "text": [
      "Feature ranking:\n",
      "1.\tfeature z_win_min\t(0.16798239935779186)\n",
      "2.\tfeature z_win_median\t(0.14005478480057917)\n",
      "3.\tfeature z_win_mean\t(0.13210159169068286)\n",
      "4.\tfeature y_win_min\t(0.08917659279525886)\n",
      "5.\tfeature y_win_max\t(0.08777851991931403)\n",
      "6.\tfeature z_win_max\t(0.07056818296147796)\n",
      "7.\tfeature y_win_mean\t(0.0651225194739667)\n",
      "8.\tfeature x_win_mean\t(0.06453739264870412)\n",
      "9.\tfeature x_win_max\t(0.05647963016703458)\n",
      "10.\tfeature x_win_min\t(0.05226429953748055)\n",
      "11.\tfeature x_win_median\t(0.029694156601550774)\n",
      "12.\tfeature y_win_median\t(0.015236585842503944)\n",
      "13.\tfeature x_acceleration\t(0.01371711304327312)\n",
      "14.\tfeature z_acceleration\t(0.011091846627122903)\n",
      "15.\tfeature y_acceleration\t(0.003224839800244727)\n",
      "16.\tfeature y2\t(0.0003772810231072705)\n",
      "17.\tfeature z2\t(0.00031019098495536126)\n",
      "18.\tfeature x2\t(0.00028207272495125465)\n"
     ]
    }
   ],
   "source": [
    "import numpy as np\n",
    "\n",
    "clf_rf.fit(X,y)\n",
    "print(\"Feature ranking:\")\n",
    "importances = clf_rf.feature_importances_\n",
    "indices = np.argsort(importances)[::-1]\n",
    "for f in range(X.shape[1]):\n",
    "    print(\"{}.\\tfeature {}\\t({})\".format(f + 1, X.columns[int(indices[f])], importances[indices[f]]))"
   ]
  },
  {
   "cell_type": "code",
   "execution_count": null,
   "metadata": {
    "collapsed": false
   },
   "outputs": [],
   "source": []
  }
 ],
 "metadata": {
  "kernelspec": {
   "display_name": "Python 3.5",
   "language": "python",
   "name": "python3"
  },
  "language_info": {
   "codemirror_mode": {
    "name": "ipython",
    "version": 3
   },
   "file_extension": ".py",
   "mimetype": "text/x-python",
   "name": "python",
   "nbconvert_exporter": "python",
   "pygments_lexer": "ipython3",
   "version": "3.5.2"
  }
 },
 "nbformat": 4,
 "nbformat_minor": 2
}
