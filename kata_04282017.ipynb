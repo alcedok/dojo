{
 "cells": [
  {
   "cell_type": "code",
   "execution_count": 1,
   "metadata": {
    "collapsed": true,
    "deletable": true,
    "editable": true
   },
   "outputs": [],
   "source": [
    "import config\n",
    "import pandas as pd\n",
    "import glob"
   ]
  },
  {
   "cell_type": "code",
   "execution_count": 2,
   "metadata": {
    "collapsed": false,
    "deletable": true,
    "editable": true
   },
   "outputs": [
    {
     "data": {
      "text/html": [
       "<style>.container { width:100% !important; }</style>"
      ],
      "text/plain": [
       "<IPython.core.display.HTML object>"
      ]
     },
     "metadata": {},
     "output_type": "display_data"
    }
   ],
   "source": [
    "# modules used for easier display of data\n",
    "from IPython.display import display\n",
    "from IPython.core.display import HTML\n",
    "display(HTML(\"<style>.container { width:100% !important; }</style>\"))"
   ]
  },
  {
   "cell_type": "markdown",
   "metadata": {
    "deletable": true,
    "editable": true
   },
   "source": [
    "### Notes:\n",
    "\n",
    "- Previous Kata we explored the generation of features manually and successfully increased accuracy from 78% to 85% using RandomForests Classifier\n",
    "    - We only experimented this on one participant from the dataset\n",
    "- Today we will focus on extending this previous concept out to all participants on the dataset and compare results"
   ]
  },
  {
   "cell_type": "markdown",
   "metadata": {
    "deletable": true,
    "editable": true
   },
   "source": [
    "### Accomplished:\n",
    "\n",
    "- Explored the performance of RandomForests using an ensemble of 100, on each separate dataset of participant\n",
    "- Cross-validated the results with 5-fold"
   ]
  },
  {
   "cell_type": "markdown",
   "metadata": {
    "deletable": true,
    "editable": true
   },
   "source": [
    "### Load Data"
   ]
  },
  {
   "cell_type": "code",
   "execution_count": 3,
   "metadata": {
    "collapsed": false,
    "deletable": true,
    "editable": true
   },
   "outputs": [
    {
     "name": "stdout",
     "output_type": "stream",
     "text": [
      "number of participants 15\n"
     ]
    }
   ],
   "source": [
    "path_to_files = glob.glob(config.data_dir+'*.csv')\n",
    "dfs = []\n",
    "for i,f in enumerate(path_to_files):\n",
    "    df_i = pd.read_csv(f,names=config.cols)\n",
    "    df_i['participant_id'] = i\n",
    "    dfs.append(df_i)\n",
    "print(\"number of participants\", len(dfs))"
   ]
  },
  {
   "cell_type": "markdown",
   "metadata": {
    "deletable": true,
    "editable": true
   },
   "source": [
    "### Feature Engineering\n",
    "\n",
    "- from kata_04272017\n",
    "- Seems like data contains Unknown \"labels\" marked as 0, we will remove these for now"
   ]
  },
  {
   "cell_type": "code",
   "execution_count": 4,
   "metadata": {
    "collapsed": true,
    "deletable": true,
    "editable": true
   },
   "outputs": [],
   "source": [
    "def create_features(df_i, window_size=int(config.sampling_freq) ):\n",
    "    df_i['x_win_mean'] = df_i[['x_acceleration']].rolling(window_size,min_periods=1).mean()\n",
    "    df_i['y_win_mean'] = df_i[['y_acceleration']].rolling(window_size,min_periods=1).mean()\n",
    "    df_i['z_win_mean'] = df_i[['z_acceleration']].rolling(window_size,min_periods=1).mean()\n",
    "\n",
    "    df_i['x_win_median'] = df_i[['x_acceleration']].rolling(window_size,min_periods=1).median()\n",
    "    df_i['y_win_median'] = df_i[['y_acceleration']].rolling(window_size,min_periods=1).median()\n",
    "    df_i['z_win_median'] = df_i[['z_acceleration']].rolling(window_size,min_periods=1).median()\n",
    "\n",
    "    df_i['x_win_max'] = df_i[['x_acceleration']].rolling(window_size,min_periods=1).max()\n",
    "    df_i['y_win_max'] = df_i[['y_acceleration']].rolling(window_size,min_periods=1).max()\n",
    "    df_i['z_win_max'] = df_i[['z_acceleration']].rolling(window_size,min_periods=1).max()\n",
    "\n",
    "    df_i['x_win_min'] = df_i[['x_acceleration']].rolling(window_size,min_periods=1).min()\n",
    "    df_i['y_win_min'] = df_i[['y_acceleration']].rolling(window_size,min_periods=1).min()\n",
    "    df_i['z_win_min'] = df_i[['z_acceleration']].rolling(window_size,min_periods=1).min()\n",
    "\n",
    "    df_i = df_i.dropna()\n",
    "    return df_i"
   ]
  },
  {
   "cell_type": "code",
   "execution_count": 5,
   "metadata": {
    "collapsed": false,
    "deletable": true,
    "editable": true
   },
   "outputs": [],
   "source": [
    "# compute features for each participant\n",
    "dfs_processed = [create_features(df_i,window_size=int(config.sampling_freq*3.0)) for df_i in dfs]\n",
    "\n",
    "#  preprocess data to remove instances with zero as a label\n",
    "dfs_processed = [ df_i[df_i['label']>0] for df_i in dfs_processed]"
   ]
  },
  {
   "cell_type": "markdown",
   "metadata": {
    "deletable": true,
    "editable": true
   },
   "source": [
    "### ML with cross-validation"
   ]
  },
  {
   "cell_type": "code",
   "execution_count": 9,
   "metadata": {
    "collapsed": false,
    "deletable": true,
    "editable": true
   },
   "outputs": [],
   "source": [
    "from sklearn.ensemble import RandomForestClassifier\n",
    "from sklearn.model_selection import cross_val_score"
   ]
  },
  {
   "cell_type": "code",
   "execution_count": 15,
   "metadata": {
    "collapsed": true,
    "deletable": true,
    "editable": true
   },
   "outputs": [],
   "source": [
    "clf_rf = RandomForestClassifier(n_jobs=-1,n_estimators=100,random_state=2)"
   ]
  },
  {
   "cell_type": "code",
   "execution_count": 11,
   "metadata": {
    "collapsed": false,
    "deletable": true,
    "editable": true
   },
   "outputs": [],
   "source": [
    "def train_and_score(clf,X,y):\n",
    "    clf_score = cross_val_score(clf,X,y,cv=5,n_jobs=-1)\n",
    "    return clf_score"
   ]
  },
  {
   "cell_type": "markdown",
   "metadata": {
    "deletable": true,
    "editable": true
   },
   "source": [
    "##### Create a model and calculate score for each participant separately"
   ]
  },
  {
   "cell_type": "code",
   "execution_count": null,
   "metadata": {
    "collapsed": true,
    "deletable": true,
    "editable": true
   },
   "outputs": [],
   "source": [
    "# create a list of (X,y) tuples\n",
    "X_cols = ['x_acceleration','y_acceleration','z_acceleration',\n",
    "        'x_win_mean','y_win_mean','z_win_mean',\n",
    "        'x_win_median','y_win_median','z_win_median',\n",
    "        'x_win_max','y_win_max','z_win_max',\n",
    "        'x_win_min','y_win_min','z_win_min']\n",
    "\n",
    "y_cols = 'label'\n",
    "data = [(df_i[X_cols],df_i[y_cols]) for df_i in dfs_processed]"
   ]
  },
  {
   "cell_type": "code",
   "execution_count": 67,
   "metadata": {
    "collapsed": false,
    "deletable": true,
    "editable": true
   },
   "outputs": [
    {
     "name": "stdout",
     "output_type": "stream",
     "text": [
      "Participant 0\t Accuracy: 0.86 (+/- 0.13)\n",
      "Participant 1\t Accuracy: 0.73 (+/- 0.34)\n",
      "Participant 2\t Accuracy: 0.73 (+/- 0.36)\n",
      "Participant 3\t Accuracy: 0.74 (+/- 0.18)\n",
      "Participant 4\t Accuracy: 0.72 (+/- 0.33)\n",
      "Participant 5\t Accuracy: 0.76 (+/- 0.22)\n",
      "Participant 6\t Accuracy: 0.88 (+/- 0.11)\n",
      "Participant 7\t Accuracy: 0.75 (+/- 0.19)\n",
      "Participant 8\t Accuracy: 0.67 (+/- 0.25)\n",
      "Participant 9\t Accuracy: 0.84 (+/- 0.24)\n",
      "Participant 10\t Accuracy: 0.80 (+/- 0.32)\n",
      "Participant 11\t Accuracy: 0.90 (+/- 0.13)\n",
      "Participant 12\t Accuracy: 0.87 (+/- 0.11)\n",
      "Participant 13\t Accuracy: 0.74 (+/- 0.29)\n",
      "Participant 14\t Accuracy: 0.71 (+/- 0.33)\n",
      "CPU times: user 4.03 s, sys: 1.17 s, total: 5.2 s\n",
      "Wall time: 9min 34s\n"
     ]
    }
   ],
   "source": [
    "%%time\n",
    "for i,d in enumerate(data):\n",
    "    X,y = d[0],d[1]\n",
    "    clf_score = train_and_score(clf_rf,X,y)\n",
    "    print(\"Participant {}\\t\".format(i),\"Accuracy: %0.2f (+/- %0.2f)\" % (clf_score.mean(), clf_score.std() * 2))"
   ]
  },
  {
   "cell_type": "markdown",
   "metadata": {
    "deletable": true,
    "editable": true
   },
   "source": [
    "##### Run with combined dataset"
   ]
  },
  {
   "cell_type": "code",
   "execution_count": 7,
   "metadata": {
    "collapsed": true,
    "deletable": true,
    "editable": true
   },
   "outputs": [],
   "source": [
    "# create a list of (X,y) tuples\n",
    "X_cols = ['x_acceleration','y_acceleration','z_acceleration',\n",
    "        'x_win_mean','y_win_mean','z_win_mean',\n",
    "        'x_win_median','y_win_median','z_win_median',\n",
    "        'x_win_max','y_win_max','z_win_max',\n",
    "        'x_win_min','y_win_min','z_win_min']\n",
    "\n",
    "y_cols = 'label'\n",
    "df_concat = pd.concat(dfs_processed)\n",
    "data = (df_concat[X_cols],df_concat[y_cols])"
   ]
  },
  {
   "cell_type": "code",
   "execution_count": 16,
   "metadata": {
    "collapsed": false,
    "deletable": true,
    "editable": true
   },
   "outputs": [
    {
     "name": "stdout",
     "output_type": "stream",
     "text": [
      "Participant 14\t Accuracy: 0.44 (+/- 0.05)\n",
      "CPU times: user 3.56 s, sys: 180 ms, total: 3.74 s\n",
      "Wall time: 5min 22s\n"
     ]
    }
   ],
   "source": [
    "%%time\n",
    "X,y = data[0],data[1]\n",
    "clf_score = train_and_score(clf_rf,X,y)\n",
    "print(\"Participant {}\\t\".format(i),\"Accuracy: %0.2f (+/- %0.2f)\" % (clf_score.mean(), clf_score.std() * 2))"
   ]
  },
  {
   "cell_type": "code",
   "execution_count": null,
   "metadata": {
    "collapsed": true,
    "deletable": true,
    "editable": true
   },
   "outputs": [],
   "source": []
  }
 ],
 "metadata": {
  "kernelspec": {
   "display_name": "Python 3.5",
   "language": "python",
   "name": "python3"
  }
 },
 "nbformat": 4,
 "nbformat_minor": 2
}
