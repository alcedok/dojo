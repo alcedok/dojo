{
 "cells": [
  {
   "cell_type": "code",
   "execution_count": 1,
   "metadata": {
    "collapsed": true
   },
   "outputs": [],
   "source": [
    "import config\n",
    "import pandas as pd\n",
    "import glob"
   ]
  },
  {
   "cell_type": "markdown",
   "metadata": {},
   "source": [
    "#### Notes:\n",
    "\n",
    "- Successfully improved accuracy by 10%, from 86% to 98%\n",
    "- Overall Accuracy using one participant's data to train and tested on rest, accuracy jump from 44% to 96%"
   ]
  },
  {
   "cell_type": "markdown",
   "metadata": {},
   "source": [
    "#### Load Data"
   ]
  },
  {
   "cell_type": "code",
   "execution_count": 90,
   "metadata": {
    "collapsed": false
   },
   "outputs": [
    {
     "name": "stdout",
     "output_type": "stream",
     "text": [
      "(166741, 4)\n"
     ]
    }
   ],
   "source": [
    "data_files = glob.glob(config.data_dir+'*.csv')\n",
    "dfs=[]\n",
    "for f in data_files:\n",
    "    df_i = pd.read_csv(f,sep=',',names=config.cols)\n",
    "    dfs.append(df_i)\n",
    "df_train = dfs[0].drop('sequential_number',axis=1)\n",
    "df_test = dfs\n",
    "print(df_train.shape)"
   ]
  },
  {
   "cell_type": "markdown",
   "metadata": {},
   "source": [
    "#### Feature Engineering"
   ]
  },
  {
   "cell_type": "markdown",
   "metadata": {},
   "source": [
    "Compute the following"
   ]
  },
  {
   "cell_type": "code",
   "execution_count": 113,
   "metadata": {
    "collapsed": true
   },
   "outputs": [],
   "source": [
    "def create_features(df_i, window_size=int(config.sampling_freq) ):\n",
    "    df_i['x_win_mean'] = df_i[['x_acceleration']].rolling(window_size,min_periods=1).mean()\n",
    "    df_i['y_win_mean'] = df_i[['y_acceleration']].rolling(window_size,min_periods=1).mean()\n",
    "    df_i['z_win_mean'] = df_i[['z_acceleration']].rolling(window_size,min_periods=1).mean()\n",
    "\n",
    "    df_i['x_win_median'] = df_i[['x_acceleration']].rolling(window_size,min_periods=1).median()\n",
    "    df_i['y_win_median'] = df_i[['y_acceleration']].rolling(window_size,min_periods=1).median()\n",
    "    df_i['z_win_median'] = df_i[['z_acceleration']].rolling(window_size,min_periods=1).median()\n",
    "\n",
    "    df_i['x_win_max'] = df_i[['x_acceleration']].rolling(window_size,min_periods=1).max()\n",
    "    df_i['y_win_max'] = df_i[['y_acceleration']].rolling(window_size,min_periods=1).max()\n",
    "    df_i['z_win_max'] = df_i[['z_acceleration']].rolling(window_size,min_periods=1).max()\n",
    "\n",
    "    df_i['x_win_min'] = df_i[['x_acceleration']].rolling(window_size,min_periods=1).min()\n",
    "    df_i['y_win_min'] = df_i[['y_acceleration']].rolling(window_size,min_periods=1).min()\n",
    "    df_i['z_win_min'] = df_i[['z_acceleration']].rolling(window_size,min_periods=1).min()\n",
    "    \n",
    "    df_i['x_win_var'] = df_i[['x_acceleration']].rolling(window_size,min_periods=1).var()\n",
    "    df_i['y_win_var'] = df_i[['y_acceleration']].rolling(window_size,min_periods=1).var()\n",
    "    df_i['z_win_var'] = df_i[['z_acceleration']].rolling(window_size,min_periods=1).var()\n",
    "    \n",
    "    df_i['x_win_std'] = df_i[['x_acceleration']].rolling(window_size,min_periods=1).std()\n",
    "    df_i['y_win_std'] = df_i[['y_acceleration']].rolling(window_size,min_periods=1).std()\n",
    "    df_i['z_win_std'] = df_i[['z_acceleration']].rolling(window_size,min_periods=1).std()\n",
    "    \n",
    "    df_i['prev_label'] = df_i['label'].shift(-1).fillna(0.0).astype(int)\n",
    "    df_i['prev_prev_label'] = df_i['label'].shift(-2).fillna(0.0).astype(int)\n",
    "    df_i['prev_prev_prev_label'] = df_i['label'].shift(-3).fillna(0.0).astype(int)\n",
    "    df_i = df_i.dropna()\n",
    "        \n",
    "    return df_i"
   ]
  },
  {
   "cell_type": "code",
   "execution_count": 114,
   "metadata": {
    "collapsed": false
   },
   "outputs": [
    {
     "name": "stdout",
     "output_type": "stream",
     "text": [
      "number of rows removed:  3001\n",
      "(166740, 25)\n"
     ]
    }
   ],
   "source": [
    "# remove zero labels\n",
    "df_p = df_train[df_train['label']>0]\n",
    "print('number of rows removed: ',df_train.shape[0]-df_p.shape[0])\n",
    "df_p = create_features(df_train.copy())\n",
    "print(df_p.shape)"
   ]
  },
  {
   "cell_type": "code",
   "execution_count": 132,
   "metadata": {
    "collapsed": false
   },
   "outputs": [
    {
     "data": {
      "text/html": [
       "<div>\n",
       "<table border=\"1\" class=\"dataframe\">\n",
       "  <thead>\n",
       "    <tr style=\"text-align: right;\">\n",
       "      <th></th>\n",
       "      <th>sequential_number</th>\n",
       "      <th>x_acceleration</th>\n",
       "      <th>y_acceleration</th>\n",
       "      <th>z_acceleration</th>\n",
       "      <th>label</th>\n",
       "      <th>x_win_mean</th>\n",
       "      <th>y_win_mean</th>\n",
       "      <th>z_win_mean</th>\n",
       "      <th>x_win_median</th>\n",
       "      <th>y_win_median</th>\n",
       "      <th>...</th>\n",
       "      <th>z_win_min</th>\n",
       "      <th>x_win_var</th>\n",
       "      <th>y_win_var</th>\n",
       "      <th>z_win_var</th>\n",
       "      <th>x_win_std</th>\n",
       "      <th>y_win_std</th>\n",
       "      <th>z_win_std</th>\n",
       "      <th>prev_label</th>\n",
       "      <th>prev_prev_label</th>\n",
       "      <th>prev_prev_prev_label</th>\n",
       "    </tr>\n",
       "  </thead>\n",
       "  <tbody>\n",
       "    <tr>\n",
       "      <th>1</th>\n",
       "      <td>1.0</td>\n",
       "      <td>2045</td>\n",
       "      <td>2039</td>\n",
       "      <td>1666</td>\n",
       "      <td>1</td>\n",
       "      <td>2051.000000</td>\n",
       "      <td>2041.000000</td>\n",
       "      <td>1665.500000</td>\n",
       "      <td>2051.0</td>\n",
       "      <td>2041.0</td>\n",
       "      <td>...</td>\n",
       "      <td>1665.0</td>\n",
       "      <td>72.000000</td>\n",
       "      <td>8.000000</td>\n",
       "      <td>0.500000</td>\n",
       "      <td>8.485281</td>\n",
       "      <td>2.828427</td>\n",
       "      <td>0.707107</td>\n",
       "      <td>1</td>\n",
       "      <td>1</td>\n",
       "      <td>1</td>\n",
       "    </tr>\n",
       "    <tr>\n",
       "      <th>2</th>\n",
       "      <td>2.0</td>\n",
       "      <td>2042</td>\n",
       "      <td>2036</td>\n",
       "      <td>1662</td>\n",
       "      <td>1</td>\n",
       "      <td>2048.000000</td>\n",
       "      <td>2039.333333</td>\n",
       "      <td>1664.333333</td>\n",
       "      <td>2045.0</td>\n",
       "      <td>2039.0</td>\n",
       "      <td>...</td>\n",
       "      <td>1662.0</td>\n",
       "      <td>63.000000</td>\n",
       "      <td>12.333333</td>\n",
       "      <td>4.333333</td>\n",
       "      <td>7.937254</td>\n",
       "      <td>3.511885</td>\n",
       "      <td>2.081666</td>\n",
       "      <td>1</td>\n",
       "      <td>1</td>\n",
       "      <td>1</td>\n",
       "    </tr>\n",
       "    <tr>\n",
       "      <th>3</th>\n",
       "      <td>3.0</td>\n",
       "      <td>2045</td>\n",
       "      <td>2042</td>\n",
       "      <td>1660</td>\n",
       "      <td>1</td>\n",
       "      <td>2047.250000</td>\n",
       "      <td>2040.000000</td>\n",
       "      <td>1663.250000</td>\n",
       "      <td>2045.0</td>\n",
       "      <td>2040.5</td>\n",
       "      <td>...</td>\n",
       "      <td>1660.0</td>\n",
       "      <td>44.250000</td>\n",
       "      <td>10.000000</td>\n",
       "      <td>7.583333</td>\n",
       "      <td>6.652067</td>\n",
       "      <td>3.162278</td>\n",
       "      <td>2.753785</td>\n",
       "      <td>1</td>\n",
       "      <td>1</td>\n",
       "      <td>1</td>\n",
       "    </tr>\n",
       "    <tr>\n",
       "      <th>4</th>\n",
       "      <td>4.0</td>\n",
       "      <td>2043</td>\n",
       "      <td>2037</td>\n",
       "      <td>1660</td>\n",
       "      <td>1</td>\n",
       "      <td>2046.400000</td>\n",
       "      <td>2039.400000</td>\n",
       "      <td>1662.600000</td>\n",
       "      <td>2045.0</td>\n",
       "      <td>2039.0</td>\n",
       "      <td>...</td>\n",
       "      <td>1660.0</td>\n",
       "      <td>36.800000</td>\n",
       "      <td>9.300000</td>\n",
       "      <td>7.800000</td>\n",
       "      <td>6.066300</td>\n",
       "      <td>3.049590</td>\n",
       "      <td>2.792848</td>\n",
       "      <td>1</td>\n",
       "      <td>1</td>\n",
       "      <td>1</td>\n",
       "    </tr>\n",
       "    <tr>\n",
       "      <th>5</th>\n",
       "      <td>5.0</td>\n",
       "      <td>2045</td>\n",
       "      <td>2036</td>\n",
       "      <td>1661</td>\n",
       "      <td>1</td>\n",
       "      <td>2046.166667</td>\n",
       "      <td>2038.833333</td>\n",
       "      <td>1662.333333</td>\n",
       "      <td>2045.0</td>\n",
       "      <td>2038.0</td>\n",
       "      <td>...</td>\n",
       "      <td>1660.0</td>\n",
       "      <td>29.766667</td>\n",
       "      <td>9.366667</td>\n",
       "      <td>6.666667</td>\n",
       "      <td>5.455884</td>\n",
       "      <td>3.060501</td>\n",
       "      <td>2.581989</td>\n",
       "      <td>1</td>\n",
       "      <td>1</td>\n",
       "      <td>1</td>\n",
       "    </tr>\n",
       "  </tbody>\n",
       "</table>\n",
       "<p>5 rows × 26 columns</p>\n",
       "</div>"
      ],
      "text/plain": [
       "   sequential_number  x_acceleration  y_acceleration  z_acceleration  label  \\\n",
       "1                1.0            2045            2039            1666      1   \n",
       "2                2.0            2042            2036            1662      1   \n",
       "3                3.0            2045            2042            1660      1   \n",
       "4                4.0            2043            2037            1660      1   \n",
       "5                5.0            2045            2036            1661      1   \n",
       "\n",
       "    x_win_mean   y_win_mean   z_win_mean  x_win_median  y_win_median  \\\n",
       "1  2051.000000  2041.000000  1665.500000        2051.0        2041.0   \n",
       "2  2048.000000  2039.333333  1664.333333        2045.0        2039.0   \n",
       "3  2047.250000  2040.000000  1663.250000        2045.0        2040.5   \n",
       "4  2046.400000  2039.400000  1662.600000        2045.0        2039.0   \n",
       "5  2046.166667  2038.833333  1662.333333        2045.0        2038.0   \n",
       "\n",
       "           ...           z_win_min  x_win_var  y_win_var  z_win_var  \\\n",
       "1          ...              1665.0  72.000000   8.000000   0.500000   \n",
       "2          ...              1662.0  63.000000  12.333333   4.333333   \n",
       "3          ...              1660.0  44.250000  10.000000   7.583333   \n",
       "4          ...              1660.0  36.800000   9.300000   7.800000   \n",
       "5          ...              1660.0  29.766667   9.366667   6.666667   \n",
       "\n",
       "   x_win_std  y_win_std  z_win_std  prev_label  prev_prev_label  \\\n",
       "1   8.485281   2.828427   0.707107           1                1   \n",
       "2   7.937254   3.511885   2.081666           1                1   \n",
       "3   6.652067   3.162278   2.753785           1                1   \n",
       "4   6.066300   3.049590   2.792848           1                1   \n",
       "5   5.455884   3.060501   2.581989           1                1   \n",
       "\n",
       "   prev_prev_prev_label  \n",
       "1                     1  \n",
       "2                     1  \n",
       "3                     1  \n",
       "4                     1  \n",
       "5                     1  \n",
       "\n",
       "[5 rows x 26 columns]"
      ]
     },
     "execution_count": 132,
     "metadata": {},
     "output_type": "execute_result"
    }
   ],
   "source": [
    "df_p.head(5)"
   ]
  },
  {
   "cell_type": "code",
   "execution_count": 116,
   "metadata": {
    "collapsed": false
   },
   "outputs": [
    {
     "name": "stdout",
     "output_type": "stream",
     "text": [
      "(166740, 24) (166740,)\n"
     ]
    }
   ],
   "source": [
    "X_cols = ['x_acceleration','y_acceleration','z_acceleration',\n",
    "        'x_win_mean','y_win_mean','z_win_mean',\n",
    "        'x_win_median','y_win_median','z_win_median',\n",
    "        'x_win_max','y_win_max','z_win_max',\n",
    "        'x_win_min','y_win_min','z_win_min',\n",
    "        'x_win_var','y_win_var','z_win_var',\n",
    "        'x_win_std','y_win_std','z_win_std',\n",
    "         'prev_label','prev_prev_label','prev_prev_label']\n",
    "X,y = df_p[X_cols], df_p['label']\n",
    "print(X.shape,y.shape)"
   ]
  },
  {
   "cell_type": "markdown",
   "metadata": {},
   "source": [
    "#### Training and CV"
   ]
  },
  {
   "cell_type": "code",
   "execution_count": 117,
   "metadata": {
    "collapsed": false
   },
   "outputs": [],
   "source": [
    "from sklearn.ensemble import RandomForestClassifier\n",
    "from sklearn.model_selection import cross_val_score"
   ]
  },
  {
   "cell_type": "code",
   "execution_count": 124,
   "metadata": {
    "collapsed": true
   },
   "outputs": [],
   "source": [
    "clf = RandomForestClassifier(n_jobs=-1,n_estimators=200,random_state=2)"
   ]
  },
  {
   "cell_type": "code",
   "execution_count": 125,
   "metadata": {
    "collapsed": false
   },
   "outputs": [
    {
     "name": "stdout",
     "output_type": "stream",
     "text": [
      "Accuracy: 0.98 (+/- 0.09)\n"
     ]
    }
   ],
   "source": [
    "clf_score = cross_val_score(clf,X,y,cv=5,n_jobs=-1)\n",
    "print(\"Accuracy: %0.2f (+/- %0.2f)\" % (clf_score.mean(), clf_score.std() * 2))"
   ]
  },
  {
   "cell_type": "markdown",
   "metadata": {},
   "source": [
    "#### Test Data"
   ]
  },
  {
   "cell_type": "code",
   "execution_count": 126,
   "metadata": {
    "collapsed": false
   },
   "outputs": [
    {
     "data": {
      "text/plain": [
       "RandomForestClassifier(bootstrap=True, class_weight=None, criterion='gini',\n",
       "            max_depth=None, max_features='auto', max_leaf_nodes=None,\n",
       "            min_impurity_split=1e-07, min_samples_leaf=1,\n",
       "            min_samples_split=2, min_weight_fraction_leaf=0.0,\n",
       "            n_estimators=200, n_jobs=-1, oob_score=False, random_state=2,\n",
       "            verbose=0, warm_start=False)"
      ]
     },
     "execution_count": 126,
     "metadata": {},
     "output_type": "execute_result"
    }
   ],
   "source": [
    "clf.fit(X,y)"
   ]
  },
  {
   "cell_type": "code",
   "execution_count": 127,
   "metadata": {
    "collapsed": false
   },
   "outputs": [],
   "source": [
    "# Process test data\n",
    "df_test_p = []\n",
    "for d in df_test:\n",
    "    # remove zero labels\n",
    "    df_p = d[d['label']>0]\n",
    "#     print('number of rows containing 0 label: ',d.shape[0]-df_p.shape[0])\n",
    "    df_p = create_features(d.copy())\n",
    "    df_test_p.append(df_p)"
   ]
  },
  {
   "cell_type": "code",
   "execution_count": 128,
   "metadata": {
    "collapsed": false
   },
   "outputs": [
    {
     "name": "stdout",
     "output_type": "stream",
     "text": [
      "Participant 0 \t Accuracy: 1.00 \n",
      "Participant 1 \t Accuracy: 0.93 \n",
      "Participant 2 \t Accuracy: 0.91 \n",
      "Participant 3 \t Accuracy: 0.95 \n",
      "Participant 4 \t Accuracy: 0.98 \n",
      "Participant 5 \t Accuracy: 0.92 \n",
      "Participant 6 \t Accuracy: 0.97 \n",
      "Participant 7 \t Accuracy: 0.96 \n",
      "Participant 8 \t Accuracy: 0.98 \n",
      "Participant 9 \t Accuracy: 0.95 \n",
      "Participant 10 \t Accuracy: 0.99 \n",
      "Participant 11 \t Accuracy: 0.98 \n",
      "Participant 12 \t Accuracy: 1.00 \n",
      "Participant 13 \t Accuracy: 0.98 \n",
      "Participant 14 \t Accuracy: 0.97 \n"
     ]
    }
   ],
   "source": [
    "scores = []\n",
    "for i,d in enumerate(df_test_p):\n",
    "    X_test_i,y_test_i = d[X_cols], d['label']\n",
    "    score_i = (i,clf.score(X_test_i,y_test_i))\n",
    "    scores.append(score_i)\n",
    "    print(\"Participant\",i,\"\\t Accuracy: %0.2f \" % (score_i[1]))"
   ]
  },
  {
   "cell_type": "code",
   "execution_count": 129,
   "metadata": {
    "collapsed": false
   },
   "outputs": [
    {
     "name": "stdout",
     "output_type": "stream",
     "text": [
      "0.961934111028\n"
     ]
    }
   ],
   "source": [
    "# Mean Accuracy (ignoring the first one)\n",
    "def compute_mean(a): return sum(a)/len(a)\n",
    "vals = [v[1] for v in scores if v[0]!=0]\n",
    "print(compute_mean(vals)) "
   ]
  },
  {
   "cell_type": "code",
   "execution_count": null,
   "metadata": {
    "collapsed": true
   },
   "outputs": [],
   "source": []
  }
 ],
 "metadata": {
  "kernelspec": {
   "display_name": "Python 3.5",
   "language": "python",
   "name": "python3"
  },
  "language_info": {
   "codemirror_mode": {
    "name": "ipython",
    "version": 3
   },
   "file_extension": ".py",
   "mimetype": "text/x-python",
   "name": "python",
   "nbconvert_exporter": "python",
   "pygments_lexer": "ipython3",
   "version": "3.5.2"
  }
 },
 "nbformat": 4,
 "nbformat_minor": 2
}
